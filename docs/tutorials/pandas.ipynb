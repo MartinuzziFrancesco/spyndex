{
 "cells": [
  {
   "cell_type": "markdown",
   "metadata": {},
   "source": [
    "# Pandas"
   ]
  },
  {
   "cell_type": "markdown",
   "metadata": {},
   "source": [
    "[![colab](https://colab.research.google.com/assets/colab-badge.svg)](https://colab.research.google.com/github/davemlz/spyndex/blob/main/docs/tutorials/pandas.ipynb)\n",
    "![level3](https://raw.githubusercontent.com/davemlz/spyndex/main/docs/_static/level3.png)"
   ]
  },
  {
   "cell_type": "markdown",
   "metadata": {},
   "source": [
    "After passing levels 1 and 2, you are ready to start this: Level 3 - `spyndex + pandas`!\n",
    "\n",
    "Remember to install `spyndex`!"
   ]
  },
  {
   "cell_type": "code",
   "execution_count": null,
   "metadata": {},
   "outputs": [],
   "source": [
    "!pip install -U spyndex"
   ]
  },
  {
   "cell_type": "markdown",
   "metadata": {},
   "source": [
    "Now, let's start!\n",
    "\n",
    "First, import `spyndex` and `pandas`:"
   ]
  },
  {
   "cell_type": "code",
   "execution_count": 31,
   "metadata": {},
   "outputs": [],
   "source": [
    "import spyndex\n",
    "import pandas as pd"
   ]
  },
  {
   "cell_type": "markdown",
   "metadata": {},
   "source": [
    "## `pandas.Series`\n",
    "\n",
    "We have all worked with `pandas`. Well, `spyndex` also works with `pandas` so you can continue using it! :)\n",
    "\n",
    "Let's use a `pandas.DataFrame` that is stored in the `spyndex` datasets: `spectral`:"
   ]
  },
  {
   "cell_type": "code",
   "execution_count": 59,
   "metadata": {},
   "outputs": [],
   "source": [
    "df = spyndex.datasets.open(\"spectral\")"
   ]
  },
  {
   "cell_type": "markdown",
   "metadata": {},
   "source": [
    "Each column of this dataset is the Surface Reflectance from Landsat 8 for 3 different classes. The samples were taken over Oporto:"
   ]
  },
  {
   "cell_type": "code",
   "execution_count": 33,
   "metadata": {},
   "outputs": [
    {
     "data": {
      "text/html": [
       "<div>\n",
       "<style scoped>\n",
       "    .dataframe tbody tr th:only-of-type {\n",
       "        vertical-align: middle;\n",
       "    }\n",
       "\n",
       "    .dataframe tbody tr th {\n",
       "        vertical-align: top;\n",
       "    }\n",
       "\n",
       "    .dataframe thead th {\n",
       "        text-align: right;\n",
       "    }\n",
       "</style>\n",
       "<table border=\"1\" class=\"dataframe\">\n",
       "  <thead>\n",
       "    <tr style=\"text-align: right;\">\n",
       "      <th></th>\n",
       "      <th>SR_B1</th>\n",
       "      <th>SR_B2</th>\n",
       "      <th>SR_B3</th>\n",
       "      <th>SR_B4</th>\n",
       "      <th>SR_B5</th>\n",
       "      <th>SR_B6</th>\n",
       "      <th>SR_B7</th>\n",
       "      <th>ST_B10</th>\n",
       "      <th>class</th>\n",
       "    </tr>\n",
       "  </thead>\n",
       "  <tbody>\n",
       "    <tr>\n",
       "      <th>0</th>\n",
       "      <td>0.089850</td>\n",
       "      <td>0.100795</td>\n",
       "      <td>0.132227</td>\n",
       "      <td>0.165764</td>\n",
       "      <td>0.269054</td>\n",
       "      <td>0.306206</td>\n",
       "      <td>0.251949</td>\n",
       "      <td>297.328396</td>\n",
       "      <td>Urban</td>\n",
       "    </tr>\n",
       "    <tr>\n",
       "      <th>1</th>\n",
       "      <td>0.073859</td>\n",
       "      <td>0.086990</td>\n",
       "      <td>0.124404</td>\n",
       "      <td>0.160979</td>\n",
       "      <td>0.281264</td>\n",
       "      <td>0.267596</td>\n",
       "      <td>0.217917</td>\n",
       "      <td>297.107934</td>\n",
       "      <td>Urban</td>\n",
       "    </tr>\n",
       "    <tr>\n",
       "      <th>2</th>\n",
       "      <td>0.072938</td>\n",
       "      <td>0.086028</td>\n",
       "      <td>0.120994</td>\n",
       "      <td>0.140203</td>\n",
       "      <td>0.284220</td>\n",
       "      <td>0.258384</td>\n",
       "      <td>0.200098</td>\n",
       "      <td>297.436064</td>\n",
       "      <td>Urban</td>\n",
       "    </tr>\n",
       "    <tr>\n",
       "      <th>3</th>\n",
       "      <td>0.087733</td>\n",
       "      <td>0.103916</td>\n",
       "      <td>0.135981</td>\n",
       "      <td>0.163976</td>\n",
       "      <td>0.254479</td>\n",
       "      <td>0.259580</td>\n",
       "      <td>0.216735</td>\n",
       "      <td>297.203638</td>\n",
       "      <td>Urban</td>\n",
       "    </tr>\n",
       "    <tr>\n",
       "      <th>4</th>\n",
       "      <td>0.090593</td>\n",
       "      <td>0.109306</td>\n",
       "      <td>0.150350</td>\n",
       "      <td>0.181260</td>\n",
       "      <td>0.269535</td>\n",
       "      <td>0.273234</td>\n",
       "      <td>0.219554</td>\n",
       "      <td>297.097680</td>\n",
       "      <td>Urban</td>\n",
       "    </tr>\n",
       "  </tbody>\n",
       "</table>\n",
       "</div>"
      ],
      "text/plain": [
       "      SR_B1     SR_B2     SR_B3     SR_B4     SR_B5     SR_B6     SR_B7  \\\n",
       "0  0.089850  0.100795  0.132227  0.165764  0.269054  0.306206  0.251949   \n",
       "1  0.073859  0.086990  0.124404  0.160979  0.281264  0.267596  0.217917   \n",
       "2  0.072938  0.086028  0.120994  0.140203  0.284220  0.258384  0.200098   \n",
       "3  0.087733  0.103916  0.135981  0.163976  0.254479  0.259580  0.216735   \n",
       "4  0.090593  0.109306  0.150350  0.181260  0.269535  0.273234  0.219554   \n",
       "\n",
       "       ST_B10  class  \n",
       "0  297.328396  Urban  \n",
       "1  297.107934  Urban  \n",
       "2  297.436064  Urban  \n",
       "3  297.203638  Urban  \n",
       "4  297.097680  Urban  "
      ]
     },
     "execution_count": 33,
     "metadata": {},
     "output_type": "execute_result"
    }
   ],
   "source": [
    "df.head()"
   ]
  },
  {
   "cell_type": "markdown",
   "metadata": {},
   "source": [
    "Here you can see the classes stored in the `class` column:"
   ]
  },
  {
   "cell_type": "code",
   "execution_count": 34,
   "metadata": {},
   "outputs": [
    {
     "data": {
      "text/plain": [
       "array(['Urban', 'Water', 'Vegetation'], dtype=object)"
      ]
     },
     "execution_count": 34,
     "metadata": {},
     "output_type": "execute_result"
    }
   ],
   "source": [
    "df[\"class\"].unique()"
   ]
  },
  {
   "cell_type": "markdown",
   "metadata": {},
   "source": [
    "Each column of the data frame is a `pandas.Series` data type:"
   ]
  },
  {
   "cell_type": "code",
   "execution_count": 35,
   "metadata": {},
   "outputs": [
    {
     "data": {
      "text/plain": [
       "pandas.core.series.Series"
      ]
     },
     "execution_count": 35,
     "metadata": {},
     "output_type": "execute_result"
    }
   ],
   "source": [
    "type(df[\"SR_B2\"])"
   ]
  },
  {
   "cell_type": "markdown",
   "metadata": {},
   "source": [
    "Well, we can use that to compute Spectral Indices with `spyndex`!\n",
    "\n",
    "Since we have `vegetation`, `water` and `urban` classes, let's compute 3 different indices, each one highlighting an specific class: `NDVI`, `NDWI` and `NDBI`:"
   ]
  },
  {
   "cell_type": "code",
   "execution_count": 36,
   "metadata": {},
   "outputs": [
    {
     "data": {
      "text/plain": [
       "NDVI: Normalized Difference Vegetation Index (attributes = ['bands', 'contributor', 'date_of_addition', 'formula', 'long_name', 'reference', 'short_name', 'type'])"
      ]
     },
     "execution_count": 36,
     "metadata": {},
     "output_type": "execute_result"
    }
   ],
   "source": [
    "spyndex.indices.NDVI"
   ]
  },
  {
   "cell_type": "code",
   "execution_count": 37,
   "metadata": {},
   "outputs": [
    {
     "data": {
      "text/plain": [
       "NDWI: Normalized Difference Water Index (attributes = ['bands', 'contributor', 'date_of_addition', 'formula', 'long_name', 'reference', 'short_name', 'type'])"
      ]
     },
     "execution_count": 37,
     "metadata": {},
     "output_type": "execute_result"
    }
   ],
   "source": [
    "spyndex.indices.NDWI"
   ]
  },
  {
   "cell_type": "code",
   "execution_count": 38,
   "metadata": {},
   "outputs": [
    {
     "data": {
      "text/plain": [
       "NDBI: Normalized Difference Built-Up Index (attributes = ['bands', 'contributor', 'date_of_addition', 'formula', 'long_name', 'reference', 'short_name', 'type'])"
      ]
     },
     "execution_count": 38,
     "metadata": {},
     "output_type": "execute_result"
    }
   ],
   "source": [
    "spyndex.indices.NDBI"
   ]
  },
  {
   "cell_type": "markdown",
   "metadata": {},
   "source": [
    "What bands do we need?"
   ]
  },
  {
   "cell_type": "code",
   "execution_count": 39,
   "metadata": {},
   "outputs": [
    {
     "data": {
      "text/plain": [
       "('N', 'R')"
      ]
     },
     "execution_count": 39,
     "metadata": {},
     "output_type": "execute_result"
    }
   ],
   "source": [
    "spyndex.indices.NDVI.bands"
   ]
  },
  {
   "cell_type": "code",
   "execution_count": 40,
   "metadata": {},
   "outputs": [
    {
     "data": {
      "text/plain": [
       "('G', 'N')"
      ]
     },
     "execution_count": 40,
     "metadata": {},
     "output_type": "execute_result"
    }
   ],
   "source": [
    "spyndex.indices.NDWI.bands"
   ]
  },
  {
   "cell_type": "code",
   "execution_count": 41,
   "metadata": {},
   "outputs": [
    {
     "data": {
      "text/plain": [
       "('S1', 'N')"
      ]
     },
     "execution_count": 41,
     "metadata": {},
     "output_type": "execute_result"
    }
   ],
   "source": [
    "spyndex.indices.NDBI.bands"
   ]
  },
  {
   "cell_type": "markdown",
   "metadata": {},
   "source": [
    "Green, Red, NIR and SWIR1 bands... easy!"
   ]
  },
  {
   "cell_type": "code",
   "execution_count": 42,
   "metadata": {},
   "outputs": [],
   "source": [
    "parameters = {\n",
    "    \"G\": df[\"SR_B3\"],\n",
    "    \"R\": df[\"SR_B4\"],\n",
    "    \"N\": df[\"SR_B5\"],\n",
    "    \"S1\": df[\"SR_B6\"],\n",
    "}"
   ]
  },
  {
   "cell_type": "markdown",
   "metadata": {},
   "source": [
    "With our `dict` of parameters ready we can compute the indices!"
   ]
  },
  {
   "cell_type": "code",
   "execution_count": 43,
   "metadata": {},
   "outputs": [],
   "source": [
    "idx = spyndex.computeIndex([\"NDVI\",\"NDWI\",\"NDBI\"],parameters)"
   ]
  },
  {
   "cell_type": "markdown",
   "metadata": {},
   "source": [
    "And, what's the data type of the result?"
   ]
  },
  {
   "cell_type": "code",
   "execution_count": 44,
   "metadata": {},
   "outputs": [
    {
     "name": "stdout",
     "output_type": "stream",
     "text": [
      "idx type: <class 'pandas.core.frame.DataFrame'>\n"
     ]
    }
   ],
   "source": [
    "print(f\"idx type: {type(idx)}\")"
   ]
  },
  {
   "cell_type": "markdown",
   "metadata": {},
   "source": [
    "That's right! A `pandas.DataFrame`! Why? Because each computed spectral index is now a column (`pandas.Series`) of a new dataframe:"
   ]
  },
  {
   "cell_type": "code",
   "execution_count": 45,
   "metadata": {},
   "outputs": [
    {
     "data": {
      "text/html": [
       "<div>\n",
       "<style scoped>\n",
       "    .dataframe tbody tr th:only-of-type {\n",
       "        vertical-align: middle;\n",
       "    }\n",
       "\n",
       "    .dataframe tbody tr th {\n",
       "        vertical-align: top;\n",
       "    }\n",
       "\n",
       "    .dataframe thead th {\n",
       "        text-align: right;\n",
       "    }\n",
       "</style>\n",
       "<table border=\"1\" class=\"dataframe\">\n",
       "  <thead>\n",
       "    <tr style=\"text-align: right;\">\n",
       "      <th></th>\n",
       "      <th>NDVI</th>\n",
       "      <th>NDWI</th>\n",
       "      <th>NDBI</th>\n",
       "    </tr>\n",
       "  </thead>\n",
       "  <tbody>\n",
       "    <tr>\n",
       "      <th>0</th>\n",
       "      <td>0.237548</td>\n",
       "      <td>-0.340973</td>\n",
       "      <td>0.064584</td>\n",
       "    </tr>\n",
       "    <tr>\n",
       "      <th>1</th>\n",
       "      <td>0.271989</td>\n",
       "      <td>-0.386671</td>\n",
       "      <td>-0.024902</td>\n",
       "    </tr>\n",
       "    <tr>\n",
       "      <th>2</th>\n",
       "      <td>0.339326</td>\n",
       "      <td>-0.402815</td>\n",
       "      <td>-0.047615</td>\n",
       "    </tr>\n",
       "    <tr>\n",
       "      <th>3</th>\n",
       "      <td>0.216278</td>\n",
       "      <td>-0.303482</td>\n",
       "      <td>0.009923</td>\n",
       "    </tr>\n",
       "    <tr>\n",
       "      <th>4</th>\n",
       "      <td>0.195821</td>\n",
       "      <td>-0.283852</td>\n",
       "      <td>0.006815</td>\n",
       "    </tr>\n",
       "  </tbody>\n",
       "</table>\n",
       "</div>"
      ],
      "text/plain": [
       "       NDVI      NDWI      NDBI\n",
       "0  0.237548 -0.340973  0.064584\n",
       "1  0.271989 -0.386671 -0.024902\n",
       "2  0.339326 -0.402815 -0.047615\n",
       "3  0.216278 -0.303482  0.009923\n",
       "4  0.195821 -0.283852  0.006815"
      ]
     },
     "execution_count": 45,
     "metadata": {},
     "output_type": "execute_result"
    }
   ],
   "source": [
    "idx.head()"
   ]
  },
  {
   "cell_type": "markdown",
   "metadata": {},
   "source": [
    "If you want them diectly on the original dataframe as new columns, you just have to play with the code a little bit!"
   ]
  },
  {
   "cell_type": "code",
   "execution_count": 60,
   "metadata": {},
   "outputs": [],
   "source": [
    "indicesToCompute = [\"NDVI\",\"NDWI\",\"NDBI\"]\n",
    "df[indicesToCompute] = spyndex.computeIndex(indicesToCompute,parameters)"
   ]
  },
  {
   "cell_type": "markdown",
   "metadata": {},
   "source": [
    "Now, if you check you original dataframe, you should have the new indices there!"
   ]
  },
  {
   "cell_type": "code",
   "execution_count": 61,
   "metadata": {},
   "outputs": [
    {
     "data": {
      "text/html": [
       "<div>\n",
       "<style scoped>\n",
       "    .dataframe tbody tr th:only-of-type {\n",
       "        vertical-align: middle;\n",
       "    }\n",
       "\n",
       "    .dataframe tbody tr th {\n",
       "        vertical-align: top;\n",
       "    }\n",
       "\n",
       "    .dataframe thead th {\n",
       "        text-align: right;\n",
       "    }\n",
       "</style>\n",
       "<table border=\"1\" class=\"dataframe\">\n",
       "  <thead>\n",
       "    <tr style=\"text-align: right;\">\n",
       "      <th></th>\n",
       "      <th>SR_B1</th>\n",
       "      <th>SR_B2</th>\n",
       "      <th>SR_B3</th>\n",
       "      <th>SR_B4</th>\n",
       "      <th>SR_B5</th>\n",
       "      <th>SR_B6</th>\n",
       "      <th>SR_B7</th>\n",
       "      <th>ST_B10</th>\n",
       "      <th>class</th>\n",
       "      <th>NDVI</th>\n",
       "      <th>NDWI</th>\n",
       "      <th>NDBI</th>\n",
       "    </tr>\n",
       "  </thead>\n",
       "  <tbody>\n",
       "    <tr>\n",
       "      <th>0</th>\n",
       "      <td>0.089850</td>\n",
       "      <td>0.100795</td>\n",
       "      <td>0.132227</td>\n",
       "      <td>0.165764</td>\n",
       "      <td>0.269054</td>\n",
       "      <td>0.306206</td>\n",
       "      <td>0.251949</td>\n",
       "      <td>297.328396</td>\n",
       "      <td>Urban</td>\n",
       "      <td>0.237548</td>\n",
       "      <td>-0.340973</td>\n",
       "      <td>0.064584</td>\n",
       "    </tr>\n",
       "    <tr>\n",
       "      <th>1</th>\n",
       "      <td>0.073859</td>\n",
       "      <td>0.086990</td>\n",
       "      <td>0.124404</td>\n",
       "      <td>0.160979</td>\n",
       "      <td>0.281264</td>\n",
       "      <td>0.267596</td>\n",
       "      <td>0.217917</td>\n",
       "      <td>297.107934</td>\n",
       "      <td>Urban</td>\n",
       "      <td>0.271989</td>\n",
       "      <td>-0.386671</td>\n",
       "      <td>-0.024902</td>\n",
       "    </tr>\n",
       "    <tr>\n",
       "      <th>2</th>\n",
       "      <td>0.072938</td>\n",
       "      <td>0.086028</td>\n",
       "      <td>0.120994</td>\n",
       "      <td>0.140203</td>\n",
       "      <td>0.284220</td>\n",
       "      <td>0.258384</td>\n",
       "      <td>0.200098</td>\n",
       "      <td>297.436064</td>\n",
       "      <td>Urban</td>\n",
       "      <td>0.339326</td>\n",
       "      <td>-0.402815</td>\n",
       "      <td>-0.047615</td>\n",
       "    </tr>\n",
       "    <tr>\n",
       "      <th>3</th>\n",
       "      <td>0.087733</td>\n",
       "      <td>0.103916</td>\n",
       "      <td>0.135981</td>\n",
       "      <td>0.163976</td>\n",
       "      <td>0.254479</td>\n",
       "      <td>0.259580</td>\n",
       "      <td>0.216735</td>\n",
       "      <td>297.203638</td>\n",
       "      <td>Urban</td>\n",
       "      <td>0.216278</td>\n",
       "      <td>-0.303482</td>\n",
       "      <td>0.009923</td>\n",
       "    </tr>\n",
       "    <tr>\n",
       "      <th>4</th>\n",
       "      <td>0.090593</td>\n",
       "      <td>0.109306</td>\n",
       "      <td>0.150350</td>\n",
       "      <td>0.181260</td>\n",
       "      <td>0.269535</td>\n",
       "      <td>0.273234</td>\n",
       "      <td>0.219554</td>\n",
       "      <td>297.097680</td>\n",
       "      <td>Urban</td>\n",
       "      <td>0.195821</td>\n",
       "      <td>-0.283852</td>\n",
       "      <td>0.006815</td>\n",
       "    </tr>\n",
       "  </tbody>\n",
       "</table>\n",
       "</div>"
      ],
      "text/plain": [
       "      SR_B1     SR_B2     SR_B3     SR_B4     SR_B5     SR_B6     SR_B7  \\\n",
       "0  0.089850  0.100795  0.132227  0.165764  0.269054  0.306206  0.251949   \n",
       "1  0.073859  0.086990  0.124404  0.160979  0.281264  0.267596  0.217917   \n",
       "2  0.072938  0.086028  0.120994  0.140203  0.284220  0.258384  0.200098   \n",
       "3  0.087733  0.103916  0.135981  0.163976  0.254479  0.259580  0.216735   \n",
       "4  0.090593  0.109306  0.150350  0.181260  0.269535  0.273234  0.219554   \n",
       "\n",
       "       ST_B10  class      NDVI      NDWI      NDBI  \n",
       "0  297.328396  Urban  0.237548 -0.340973  0.064584  \n",
       "1  297.107934  Urban  0.271989 -0.386671 -0.024902  \n",
       "2  297.436064  Urban  0.339326 -0.402815 -0.047615  \n",
       "3  297.203638  Urban  0.216278 -0.303482  0.009923  \n",
       "4  297.097680  Urban  0.195821 -0.283852  0.006815  "
      ]
     },
     "execution_count": 61,
     "metadata": {},
     "output_type": "execute_result"
    }
   ],
   "source": [
    "df.head()"
   ]
  },
  {
   "cell_type": "markdown",
   "metadata": {},
   "source": [
    "Beautiful! Right?"
   ]
  },
  {
   "cell_type": "markdown",
   "metadata": {},
   "source": [
    "Now, just for the sake of life, let's make some visualizations!"
   ]
  },
  {
   "cell_type": "code",
   "execution_count": 50,
   "metadata": {},
   "outputs": [],
   "source": [
    "import seaborn as sns\n",
    "import matplotlib.pyplot as plt"
   ]
  },
  {
   "cell_type": "markdown",
   "metadata": {},
   "source": [
    "Define some colors for each one of the classes:"
   ]
  },
  {
   "cell_type": "code",
   "execution_count": 49,
   "metadata": {},
   "outputs": [],
   "source": [
    "colors = [\"#E33F62\",\"#3FDDE3\",\"#4CBA4B\"]"
   ]
  },
  {
   "cell_type": "markdown",
   "metadata": {},
   "source": [
    "Now, let's create a gorgeous pair grid!"
   ]
  },
  {
   "cell_type": "code",
   "execution_count": 64,
   "metadata": {},
   "outputs": [
    {
     "data": {
      "text/plain": [
       "<Figure size 1080x1080 with 0 Axes>"
      ]
     },
     "metadata": {},
     "output_type": "display_data"
    },
    {
     "data": {
      "image/png": "[encoded data removed]",
      "text/plain": [
       "<Figure size 629.875x540 with 12 Axes>"
      ]
     },
     "metadata": {
      "needs_background": "light"
     },
     "output_type": "display_data"
    }
   ],
   "source": [
    "plt.figure(figsize = (15,15))\n",
    "g = sns.PairGrid(df[['NDVI', 'NDWI', 'NDBI','class']],hue = \"class\",palette = sns.color_palette(colors))\n",
    "g.map_lower(sns.scatterplot)\n",
    "g.map_upper(sns.kdeplot,fill = True,alpha = .5)\n",
    "g.map_diag(sns.kdeplot,fill = True)\n",
    "g.add_legend()\n",
    "plt.show()"
   ]
  }
 ],
 "metadata": {
  "interpreter": {
   "hash": "ec6a25acaecf7f06cb08206f3f56e96ccaf6fbab432a979bcf67c9e0ca577c87"
  },
  "kernelspec": {
   "display_name": "Python 3.9.7 64-bit ('spyndex': conda)",
   "name": "python3"
  },
  "language_info": {
   "codemirror_mode": {
    "name": "ipython",
    "version": 3
   },
   "file_extension": ".py",
   "mimetype": "text/x-python",
   "name": "python",
   "nbconvert_exporter": "python",
   "pygments_lexer": "ipython3",
   "version": "3.9.7"
  },
  "orig_nbformat": 4
 },
 "nbformat": 4,
 "nbformat_minor": 2
}
